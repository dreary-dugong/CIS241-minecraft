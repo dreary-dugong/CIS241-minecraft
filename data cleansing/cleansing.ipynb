{
 "cells": [
  {
   "cell_type": "code",
   "execution_count": 1,
   "metadata": {},
   "outputs": [],
   "source": [
    "#load data from csvs\n",
    "break_data <- read.csv(\"block_break.csv\")\n",
    "place_data <- read.csv(\"block_place.csv\")\n",
    "session_data <- read.csv(\"session.csv\")\n",
    "sign_data <- read.csv(\"sign.csv\")"
   ]
  },
  {
   "cell_type": "code",
   "execution_count": 2,
   "metadata": {},
   "outputs": [
    {
     "data": {
      "text/plain": [
       "                  time                      user       \n",
       " 2020-02-08 00:59:17:   182   GermanEngineer12: 56698  \n",
       " 2020-02-08 01:11:13:   168   Infernoboy16    : 18184  \n",
       " 2020-02-08 01:11:15:   163   lavablade02     : 17830  \n",
       " 2020-02-08 01:01:34:   158   Check9light     : 17517  \n",
       " 2020-02-08 12:27:06:   150   Kraftec         : 12668  \n",
       " 2020-02-08 00:54:12:   149   Jakethasnake52  : 11752  \n",
       " (Other)            :999030   (Other)         :865351  \n",
       "              block                  world              x           \n",
       " stone           :313391   world        :712977   Min.   :-85231.0  \n",
       " netherrack      :251692   world_nether :269894   1st Qu.:  -633.0  \n",
       " lava            : 61495   world_the_end: 17129   Median :     0.0  \n",
       " long_grass      : 47681                          Mean   :   228.4  \n",
       " stationary_water: 22022                          3rd Qu.:  1023.0  \n",
       " diamond_ore     : 21437                          Max.   : 61846.0  \n",
       " (Other)         :282282                                            \n",
       "       y                z            \n",
       " Min.   :  1.00   Min.   :-196731.0  \n",
       " 1st Qu.: 22.00   1st Qu.:   -727.0  \n",
       " Median : 62.00   Median :     33.0  \n",
       " Mean   : 58.61   Mean   :   -458.3  \n",
       " 3rd Qu.: 75.00   3rd Qu.:   1098.0  \n",
       " Max.   :255.00   Max.   :  84869.0  \n",
       "                                     "
      ]
     },
     "metadata": {},
     "output_type": "display_data"
    },
    {
     "data": {
      "text/plain": [
       "                  time                      user       \n",
       " 2020-02-08 10:24:06:   597   Check9light     :246342  \n",
       " 2020-02-08 10:24:07:   591   GermanEngineer12:234062  \n",
       " 2020-02-08 10:33:16:   565   artofcroissant  :123579  \n",
       " 2020-02-08 05:50:12:   562   lavablade02     : 92888  \n",
       " 2020-02-07 21:03:57:   539   CommaDotNight   : 26870  \n",
       " 2020-02-08 08:10:48:   533   Ovechkin_       : 17929  \n",
       " (Other)            :996613   (Other)         :258330  \n",
       "              block                  world              x           \n",
       " stationary_water:456432   world        :953392   Min.   :-62073.0  \n",
       " stationary_lava :253801   world_nether : 20731   1st Qu.: -1317.0  \n",
       " lava            : 88494   world_the_end: 25877   Median :     2.0  \n",
       " cobblestone     : 58813                          Mean   :   544.3  \n",
       " water           : 52369                          3rd Qu.:  1496.0  \n",
       " leaves          : 15567                          Max.   : 47797.0  \n",
       " (Other)         : 74524                                            \n",
       "       y                z           \n",
       " Min.   : -1.00   Min.   :-43414.0  \n",
       " 1st Qu.: 66.00   1st Qu.:  -269.0  \n",
       " Median : 75.00   Median :     1.0  \n",
       " Mean   : 92.55   Mean   :  -262.6  \n",
       " 3rd Qu.:105.00   3rd Qu.:  1366.0  \n",
       " Max.   :255.00   Max.   : 66707.0  \n",
       "                                    "
      ]
     },
     "metadata": {},
     "output_type": "display_data"
    },
    {
     "data": {
      "text/plain": [
       "                  time                user            action      \n",
       " 2020-02-22 08:41:12:   150   SyJay18   :  7835   Min.   :0.0000  \n",
       " 2020-02-12 19:42:37:   127   BeefCity  :  5147   1st Qu.:0.0000  \n",
       " 2020-02-14 23:31:12:   127   Fetopia   :  4623   Median :1.0000  \n",
       " 2020-02-08 13:38:00:   125   moooomoooo:  4524   Mean   :0.5049  \n",
       " 2020-02-26 17:42:34:   125   BentsiW   :  4078   3rd Qu.:1.0000  \n",
       " 2020-02-26 17:55:00:   125   k3b       :  2861   Max.   :1.0000  \n",
       " (Other)            :968915   (Other)   :940626                   \n",
       "           world              x                   y           \n",
       " world        :772280   Min.   :-13001795   Min.   :-2669.00  \n",
       " world_nether :190425   1st Qu.:     -753   1st Qu.:   61.00  \n",
       " world_the_end:  6989   Median :        4   Median :   66.00  \n",
       "                        Mean   :     8117   Mean   :   74.23  \n",
       "                        3rd Qu.:     2673   3rd Qu.:   79.00  \n",
       "                        Max.   : 30000000   Max.   :14610.00  \n",
       "                                                              \n",
       "       z            \n",
       " Min.   :-15015097  \n",
       " 1st Qu.:     -481  \n",
       " Median :       17  \n",
       " Mean   :    -5068  \n",
       " 3rd Qu.:     2320  \n",
       " Max.   :  9999965  \n",
       "                    "
      ]
     },
     "metadata": {},
     "output_type": "display_data"
    },
    {
     "data": {
      "text/plain": [
       "                  time                   user       \n",
       " 2020-03-27 20:20:14:    14   Shrando      :  1192  \n",
       " 2020-04-11 08:08:31:    14   CactusDuper  :  1103  \n",
       " 2020-03-25 17:31:35:    12   ShatteredHej :   923  \n",
       " 2020-04-04 18:03:35:    12   Temantor     :   806  \n",
       " 2020-02-29 15:50:19:    10   SmashyMC     :   805  \n",
       " 2020-03-23 16:56:39:    10   ComradeNapCal:   672  \n",
       " (Other)            :130285   (Other)      :124856  \n",
       "                                                               text      \n",
       "                                                                 :27948  \n",
       " sal is cute                                                     : 1038  \n",
       " e                                                               :  446  \n",
       "                                                                 :  362  \n",
       " tip:if there isnt a snow to spam on just move him slightly till :  322  \n",
       " w                                                               :  307  \n",
       " (Other)                                                         :99934  \n",
       "           world              x                   y         \n",
       " world        :111685   Min.   :-13001781   Min.   :  1.00  \n",
       " world_nether : 18305   1st Qu.:    -3503   1st Qu.: 62.00  \n",
       " world_the_end:   367   Median :        1   Median : 66.00  \n",
       "                        Mean   :     2416   Mean   : 69.93  \n",
       "                        3rd Qu.:     6005   3rd Qu.: 74.00  \n",
       "                        Max.   : 29999983   Max.   :255.00  \n",
       "                                                            \n",
       "       z            \n",
       " Min.   :-15015226  \n",
       " 1st Qu.:    -2706  \n",
       " Median :       77  \n",
       " Mean   :    68293  \n",
       " 3rd Qu.:     6924  \n",
       " Max.   : 29999983  \n",
       "                    "
      ]
     },
     "metadata": {},
     "output_type": "display_data"
    }
   ],
   "source": [
    "#summarize the data so we know what we're working with\n",
    "summary(break_data)\n",
    "summary(place_data)\n",
    "summary(session_data)\n",
    "summary(sign_data)"
   ]
  },
  {
   "cell_type": "code",
   "execution_count": 3,
   "metadata": {},
   "outputs": [
    {
     "data": {
      "text/plain": [
       "                  time                   user      \n",
       " 2020-03-25 17:31:35:    12   CactusDuper  : 1088  \n",
       " 2020-04-04 18:03:35:    12   ShatteredHej :  833  \n",
       " 2020-03-23 16:56:39:    10   SmashyMC     :  752  \n",
       " 2020-03-24 13:33:30:    10   Temantor     :  706  \n",
       " 2020-03-24 13:33:32:    10   ClareBear0925:  544  \n",
       " 2020-03-24 13:33:42:    10   Fobba        :  532  \n",
       " (Other)            :102345   (Other)      :97954  \n",
       "                                                               text      \n",
       " sal is cute                                                     : 1038  \n",
       " e                                                               :  446  \n",
       "                                                                 :  362  \n",
       " tip:if there isnt a snow to spam on just move him slightly till :  322  \n",
       " w                                                               :  307  \n",
       " 123456478957398 893475893758937 734563875637856 874356783563875 :  280  \n",
       " (Other)                                                         :99654  \n",
       "           world             x                   y                z            \n",
       " world        :85560   Min.   :-13001781   Min.   :  1.00   Min.   :-15015226  \n",
       " world_nether :16512   1st Qu.:    -2192   1st Qu.: 63.00   1st Qu.:    -1453  \n",
       " world_the_end:  337   Median :        0   Median : 67.00   Median :      115  \n",
       "                       Mean   :    -2637   Mean   : 73.68   Mean   :    81124  \n",
       "                       3rd Qu.:     4241   3rd Qu.: 77.00   3rd Qu.:     5258  \n",
       "                       Max.   : 29999983   Max.   :255.00   Max.   : 29999983  \n",
       "                                                                               "
      ]
     },
     "metadata": {},
     "output_type": "display_data"
    }
   ],
   "source": [
    "#A few things need fixing. First we remove all the null data (27k blank signs)\n",
    "sign_data <- sign_data[sign_data$text!=\"   \",] #three spaces were put in for blank signs in the python script\n",
    "summary(sign_data)"
   ]
  },
  {
   "cell_type": "code",
   "execution_count": 4,
   "metadata": {},
   "outputs": [
    {
     "data": {
      "text/plain": [
       "                  time                   user      \n",
       " 2020-03-25 17:31:35:    12   CactusDuper  : 1088  \n",
       " 2020-04-04 18:03:35:    12   ShatteredHej :  833  \n",
       " 2020-03-23 16:56:39:    10   SmashyMC     :  750  \n",
       " 2020-03-24 13:33:30:    10   Temantor     :  704  \n",
       " 2020-03-24 13:33:32:    10   ClareBear0925:  544  \n",
       " 2020-03-24 13:33:42:    10   Fobba        :  530  \n",
       " (Other)            :101983   (Other)      :97598  \n",
       "                                                               text      \n",
       " sal is cute                                                     : 1038  \n",
       " e                                                               :  446  \n",
       " tip:if there isnt a snow to spam on just move him slightly till :  322  \n",
       " w                                                               :  307  \n",
       " 123456478957398 893475893758937 734563875637856 874356783563875 :  280  \n",
       "  Valley of signs                                                :  265  \n",
       " (Other)                                                         :99389  \n",
       "           world             x                   y                z            \n",
       " world        :85210   Min.   :-13001781   Min.   :  1.00   Min.   :-15015226  \n",
       " world_nether :16500   1st Qu.:    -2151   1st Qu.: 63.00   1st Qu.:    -1427  \n",
       " world_the_end:  337   Median :        0   Median : 67.00   Median :      116  \n",
       "                       Mean   :    -2667   Mean   : 73.76   Mean   :    81284  \n",
       "                       3rd Qu.:     4196   3rd Qu.: 77.00   3rd Qu.:     5190  \n",
       "                       Max.   : 29999983   Max.   :255.00   Max.   : 29999983  \n",
       "                                                                               "
      ]
     },
     "metadata": {},
     "output_type": "display_data"
    }
   ],
   "source": [
    "#okay so the 27k null signs are gone\n",
    "#there's still 362 that appear blank\n",
    "#lets try removing 4 spaces (3 from python + 1 from the original sign)\n",
    "sign_data <- sign_data[sign_data$text!=\"    \",]\n",
    "summary(sign_data)"
   ]
  },
  {
   "cell_type": "code",
   "execution_count": 9,
   "metadata": {},
   "outputs": [
    {
     "name": "stderr",
     "output_type": "stream",
     "text": [
      "The following `from` values were not present in `x`: 0, 1\n",
      "\n"
     ]
    }
   ],
   "source": [
    "#that seemed to fix the bulk of the blanks signs. There could be more with more spaces but we'll handle that when we get there\n",
    "#now we can focus on simplifying categorical variables\n",
    "#that \"action\" category in session refers to whether it was a log-in or log-off. \n",
    "#If we want to keep session we can rename it, but it's also useful to seperate in/off into two new data frame\n",
    "library(plyr)\n",
    "session_data$action <- factor(session_data$action)\n",
    "session_data$action <- revalue(session_data$action, c('0'=\"out\", '1'=\"in\"))\n",
    "\n",
    "log_in <- session_data[session_data$action==\"in\", colnames(session_data)[colnames(session_data)!=\"action\"]]\n",
    "log_out <-session_data[session_data$action==\"out\", colnames(session_data)[colnames(session_data)!=\"action\"]]"
   ]
  },
  {
   "cell_type": "code",
   "execution_count": 6,
   "metadata": {},
   "outputs": [],
   "source": [
    "#every data frame has a world column. We can change that to \"dimension\" and set better levels\n",
    "library(plyr)\n",
    "colnames(break_data)[colnames(break_data)==\"world\"] <- \"dimension\"\n",
    "break_data$dimension<-revalue(break_data$dimension, c(world=\"overworld\", world_nether=\"nether\", world_the_end=\"end\"));\n",
    "\n",
    "colnames(place_data)[colnames(place_data)==\"world\"] <- \"dimension\"\n",
    "place_data$dimension<-revalue(place_data$dimension, c(world=\"overworld\", world_nether=\"nether\", world_the_end=\"end\"));\n",
    "\n",
    "colnames(sign_data)[colnames(sign_data)==\"world\"] <- \"dimension\"\n",
    "sign_data$dimension<-revalue(sign_data$dimension, c(world=\"overworld\", world_nether=\"nether\", world_the_end=\"end\"));\n",
    "\n",
    "colnames(session_data)[colnames(session_data)==\"world\"] <- \"dimension\"\n",
    "session_data$dimension <- revalue(session_data$dimension, c(world=\"overworld\", world_nether=\"nether\", world_the_end=\"end\"));\n",
    "\n",
    "colnames(log_in)[colnames(log_in)==\"world\"] <- \"dimension\"\n",
    "log_in$dimension <- revalue(log_in$dimension, c(world=\"overworld\", world_nether=\"nether\", world_the_end=\"end\"));\n",
    "\n",
    "colnames(log_out)[colnames(log_out)==\"world\"] <- \"dimension\"\n",
    "log_out$dimension <- revalue(log_out$dimension, c(world=\"overworld\", world_nether=\"nether\", world_the_end=\"end\"));"
   ]
  },
  {
   "cell_type": "code",
   "execution_count": 10,
   "metadata": {},
   "outputs": [
    {
     "data": {
      "text/plain": [
       "                  time                user        action      \n",
       " 2020-02-22 08:41:12:   150   SyJay18   :  7835   out:480051  \n",
       " 2020-02-12 19:42:37:   127   BeefCity  :  5147   in :489643  \n",
       " 2020-02-14 23:31:12:   127   Fetopia   :  4623               \n",
       " 2020-02-08 13:38:00:   125   moooomoooo:  4524               \n",
       " 2020-02-26 17:42:34:   125   BentsiW   :  4078               \n",
       " 2020-02-26 17:55:00:   125   k3b       :  2861               \n",
       " (Other)            :968915   (Other)   :940626               \n",
       "     dimension            x                   y                  z            \n",
       " overworld:772280   Min.   :-13001795   Min.   :-2669.00   Min.   :-15015097  \n",
       " nether   :190425   1st Qu.:     -753   1st Qu.:   61.00   1st Qu.:     -481  \n",
       " end      :  6989   Median :        4   Median :   66.00   Median :       17  \n",
       "                    Mean   :     8117   Mean   :   74.23   Mean   :    -5068  \n",
       "                    3rd Qu.:     2673   3rd Qu.:   79.00   3rd Qu.:     2320  \n",
       "                    Max.   : 30000000   Max.   :14610.00   Max.   :  9999965  \n",
       "                                                                              "
      ]
     },
     "metadata": {},
     "output_type": "display_data"
    },
    {
     "data": {
      "text/plain": [
       "                  time                user            dimension     \n",
       " 2020-02-09 12:46:57:    26   SyJay18   :  3911   overworld:391477  \n",
       " 2020-03-13 09:41:36:    25   BeefCity  :  2573   nether   : 94625  \n",
       " 2020-02-09 12:48:00:    24   Fetopia   :  2319   end      :  3541  \n",
       " 2020-03-03 21:36:02:    24   moooomoooo:  2306                     \n",
       " 2020-03-04 23:54:39:    23   BentsiW   :  2042                     \n",
       " 2020-03-12 18:43:49:    23   k3b       :  1438                     \n",
       " (Other)            :489498   (Other)   :475054                     \n",
       "       x                   y                  z            \n",
       " Min.   :-13001795   Min.   :-2669.00   Min.   :-15015097  \n",
       " 1st Qu.:     -679   1st Qu.:   61.00   1st Qu.:     -435  \n",
       " Median :        5   Median :   66.00   Median :       16  \n",
       " Mean   :     8061   Mean   :   74.23   Mean   :    -5076  \n",
       " 3rd Qu.:     2500   3rd Qu.:   79.00   3rd Qu.:     2184  \n",
       " Max.   : 29999999   Max.   :  299.00   Max.   :  9999965  \n",
       "                                                           "
      ]
     },
     "metadata": {},
     "output_type": "display_data"
    }
   ],
   "source": [
    "summary(session_data)\n",
    "summary(log_in)"
   ]
  },
  {
   "cell_type": "code",
   "execution_count": null,
   "metadata": {},
   "outputs": [],
   "source": [
    "#this is all I want to do for now. When I process time I may choose to change it to a different format, but for now it's\n",
    "#going to stay human readable. "
   ]
  },
  {
   "cell_type": "code",
   "execution_count": 12,
   "metadata": {},
   "outputs": [
    {
     "data": {
      "text/html": [
       "<table>\n",
       "<caption>A data.frame: 6 x 7</caption>\n",
       "<thead>\n",
       "\t<tr><th></th><th scope=col>time</th><th scope=col>user</th><th scope=col>block</th><th scope=col>dimension</th><th scope=col>x</th><th scope=col>y</th><th scope=col>z</th></tr>\n",
       "\t<tr><th></th><th scope=col>&lt;fct&gt;</th><th scope=col>&lt;fct&gt;</th><th scope=col>&lt;fct&gt;</th><th scope=col>&lt;fct&gt;</th><th scope=col>&lt;int&gt;</th><th scope=col>&lt;int&gt;</th><th scope=col>&lt;int&gt;</th></tr>\n",
       "</thead>\n",
       "<tbody>\n",
       "\t<tr><th scope=row>1</th><td>2020-02-07 09:33:30</td><td>PandaPimp</td><td>grass     </td><td>overworld</td><td> 44</td><td>71</td><td>  40</td></tr>\n",
       "\t<tr><th scope=row>2</th><td>2020-02-07 17:45:59</td><td>8pipis   </td><td>log       </td><td>overworld</td><td> 23</td><td>70</td><td>-119</td></tr>\n",
       "\t<tr><th scope=row>3</th><td>2020-02-07 17:46:01</td><td>proba2000</td><td>long_grass</td><td>overworld</td><td>-43</td><td>64</td><td> 177</td></tr>\n",
       "\t<tr><th scope=row>4</th><td>2020-02-07 17:46:02</td><td>proba2000</td><td>vine      </td><td>overworld</td><td>-45</td><td>65</td><td> 175</td></tr>\n",
       "\t<tr><th scope=row>5</th><td>2020-02-07 17:46:10</td><td>8pipis   </td><td>leaves    </td><td>overworld</td><td> 29</td><td>66</td><td> -73</td></tr>\n",
       "\t<tr><th scope=row>6</th><td>2020-02-07 17:46:11</td><td>proba2000</td><td>grass     </td><td>overworld</td><td>-34</td><td>63</td><td> 168</td></tr>\n",
       "</tbody>\n",
       "</table>\n"
      ],
      "text/latex": [
       "A data.frame: 6 x 7\n",
       "\\begin{tabular}{r|lllllll}\n",
       "  & time & user & block & dimension & x & y & z\\\\\n",
       "  & <fct> & <fct> & <fct> & <fct> & <int> & <int> & <int>\\\\\n",
       "\\hline\n",
       "\t1 & 2020-02-07 09:33:30 & PandaPimp & grass      & overworld &  44 & 71 &   40\\\\\n",
       "\t2 & 2020-02-07 17:45:59 & 8pipis    & log        & overworld &  23 & 70 & -119\\\\\n",
       "\t3 & 2020-02-07 17:46:01 & proba2000 & long\\_grass & overworld & -43 & 64 &  177\\\\\n",
       "\t4 & 2020-02-07 17:46:02 & proba2000 & vine       & overworld & -45 & 65 &  175\\\\\n",
       "\t5 & 2020-02-07 17:46:10 & 8pipis    & leaves     & overworld &  29 & 66 &  -73\\\\\n",
       "\t6 & 2020-02-07 17:46:11 & proba2000 & grass      & overworld & -34 & 63 &  168\\\\\n",
       "\\end{tabular}\n"
      ],
      "text/markdown": [
       "\n",
       "A data.frame: 6 x 7\n",
       "\n",
       "| <!--/--> | time &lt;fct&gt; | user &lt;fct&gt; | block &lt;fct&gt; | dimension &lt;fct&gt; | x &lt;int&gt; | y &lt;int&gt; | z &lt;int&gt; |\n",
       "|---|---|---|---|---|---|---|---|\n",
       "| 1 | 2020-02-07 09:33:30 | PandaPimp | grass      | overworld |  44 | 71 |   40 |\n",
       "| 2 | 2020-02-07 17:45:59 | 8pipis    | log        | overworld |  23 | 70 | -119 |\n",
       "| 3 | 2020-02-07 17:46:01 | proba2000 | long_grass | overworld | -43 | 64 |  177 |\n",
       "| 4 | 2020-02-07 17:46:02 | proba2000 | vine       | overworld | -45 | 65 |  175 |\n",
       "| 5 | 2020-02-07 17:46:10 | 8pipis    | leaves     | overworld |  29 | 66 |  -73 |\n",
       "| 6 | 2020-02-07 17:46:11 | proba2000 | grass      | overworld | -34 | 63 |  168 |\n",
       "\n"
      ],
      "text/plain": [
       "  time                user      block      dimension x   y  z   \n",
       "1 2020-02-07 09:33:30 PandaPimp grass      overworld  44 71   40\n",
       "2 2020-02-07 17:45:59 8pipis    log        overworld  23 70 -119\n",
       "3 2020-02-07 17:46:01 proba2000 long_grass overworld -43 64  177\n",
       "4 2020-02-07 17:46:02 proba2000 vine       overworld -45 65  175\n",
       "5 2020-02-07 17:46:10 8pipis    leaves     overworld  29 66  -73\n",
       "6 2020-02-07 17:46:11 proba2000 grass      overworld -34 63  168"
      ]
     },
     "metadata": {},
     "output_type": "display_data"
    },
    {
     "data": {
      "text/plain": [
       "                  time                      user       \n",
       " 2020-02-08 00:59:17:   182   GermanEngineer12: 56698  \n",
       " 2020-02-08 01:11:13:   168   Infernoboy16    : 18184  \n",
       " 2020-02-08 01:11:15:   163   lavablade02     : 17830  \n",
       " 2020-02-08 01:01:34:   158   Check9light     : 17517  \n",
       " 2020-02-08 12:27:06:   150   Kraftec         : 12668  \n",
       " 2020-02-08 00:54:12:   149   Jakethasnake52  : 11752  \n",
       " (Other)            :999030   (Other)         :865351  \n",
       "              block            dimension            x           \n",
       " stone           :313391   overworld:712977   Min.   :-85231.0  \n",
       " netherrack      :251692   nether   :269894   1st Qu.:  -633.0  \n",
       " lava            : 61495   end      : 17129   Median :     0.0  \n",
       " long_grass      : 47681                      Mean   :   228.4  \n",
       " stationary_water: 22022                      3rd Qu.:  1023.0  \n",
       " diamond_ore     : 21437                      Max.   : 61846.0  \n",
       " (Other)         :282282                                        \n",
       "       y                z            \n",
       " Min.   :  1.00   Min.   :-196731.0  \n",
       " 1st Qu.: 22.00   1st Qu.:   -727.0  \n",
       " Median : 62.00   Median :     33.0  \n",
       " Mean   : 58.61   Mean   :   -458.3  \n",
       " 3rd Qu.: 75.00   3rd Qu.:   1098.0  \n",
       " Max.   :255.00   Max.   :  84869.0  \n",
       "                                     "
      ]
     },
     "metadata": {},
     "output_type": "display_data"
    },
    {
     "data": {
      "text/html": [
       "<table>\n",
       "<caption>A data.frame: 6 x 7</caption>\n",
       "<thead>\n",
       "\t<tr><th></th><th scope=col>time</th><th scope=col>user</th><th scope=col>block</th><th scope=col>dimension</th><th scope=col>x</th><th scope=col>y</th><th scope=col>z</th></tr>\n",
       "\t<tr><th></th><th scope=col>&lt;fct&gt;</th><th scope=col>&lt;fct&gt;</th><th scope=col>&lt;fct&gt;</th><th scope=col>&lt;fct&gt;</th><th scope=col>&lt;int&gt;</th><th scope=col>&lt;int&gt;</th><th scope=col>&lt;int&gt;</th></tr>\n",
       "</thead>\n",
       "<tbody>\n",
       "\t<tr><th scope=row>1</th><td>2020-02-07 17:46:24</td><td>proba2000</td><td>dirt     </td><td>overworld</td><td>-29</td><td>63</td><td> 178</td></tr>\n",
       "\t<tr><th scope=row>2</th><td>2020-02-07 17:46:34</td><td>xercer   </td><td>workbench</td><td>overworld</td><td> 38</td><td>65</td><td> -70</td></tr>\n",
       "\t<tr><th scope=row>3</th><td>2020-02-07 17:46:41</td><td>8pipis   </td><td>workbench</td><td>overworld</td><td>  8</td><td>65</td><td> -17</td></tr>\n",
       "\t<tr><th scope=row>4</th><td>2020-02-07 17:46:48</td><td>Leguas9h </td><td>sand     </td><td>overworld</td><td>157</td><td>60</td><td>-206</td></tr>\n",
       "\t<tr><th scope=row>5</th><td>2020-02-07 17:47:09</td><td>ufgt     </td><td>sapling  </td><td>overworld</td><td>-39</td><td>63</td><td> 202</td></tr>\n",
       "\t<tr><th scope=row>6</th><td>2020-02-07 17:47:29</td><td>xercer   </td><td>workbench</td><td>overworld</td><td> 94</td><td>64</td><td>-125</td></tr>\n",
       "</tbody>\n",
       "</table>\n"
      ],
      "text/latex": [
       "A data.frame: 6 x 7\n",
       "\\begin{tabular}{r|lllllll}\n",
       "  & time & user & block & dimension & x & y & z\\\\\n",
       "  & <fct> & <fct> & <fct> & <fct> & <int> & <int> & <int>\\\\\n",
       "\\hline\n",
       "\t1 & 2020-02-07 17:46:24 & proba2000 & dirt      & overworld & -29 & 63 &  178\\\\\n",
       "\t2 & 2020-02-07 17:46:34 & xercer    & workbench & overworld &  38 & 65 &  -70\\\\\n",
       "\t3 & 2020-02-07 17:46:41 & 8pipis    & workbench & overworld &   8 & 65 &  -17\\\\\n",
       "\t4 & 2020-02-07 17:46:48 & Leguas9h  & sand      & overworld & 157 & 60 & -206\\\\\n",
       "\t5 & 2020-02-07 17:47:09 & ufgt      & sapling   & overworld & -39 & 63 &  202\\\\\n",
       "\t6 & 2020-02-07 17:47:29 & xercer    & workbench & overworld &  94 & 64 & -125\\\\\n",
       "\\end{tabular}\n"
      ],
      "text/markdown": [
       "\n",
       "A data.frame: 6 x 7\n",
       "\n",
       "| <!--/--> | time &lt;fct&gt; | user &lt;fct&gt; | block &lt;fct&gt; | dimension &lt;fct&gt; | x &lt;int&gt; | y &lt;int&gt; | z &lt;int&gt; |\n",
       "|---|---|---|---|---|---|---|---|\n",
       "| 1 | 2020-02-07 17:46:24 | proba2000 | dirt      | overworld | -29 | 63 |  178 |\n",
       "| 2 | 2020-02-07 17:46:34 | xercer    | workbench | overworld |  38 | 65 |  -70 |\n",
       "| 3 | 2020-02-07 17:46:41 | 8pipis    | workbench | overworld |   8 | 65 |  -17 |\n",
       "| 4 | 2020-02-07 17:46:48 | Leguas9h  | sand      | overworld | 157 | 60 | -206 |\n",
       "| 5 | 2020-02-07 17:47:09 | ufgt      | sapling   | overworld | -39 | 63 |  202 |\n",
       "| 6 | 2020-02-07 17:47:29 | xercer    | workbench | overworld |  94 | 64 | -125 |\n",
       "\n"
      ],
      "text/plain": [
       "  time                user      block     dimension x   y  z   \n",
       "1 2020-02-07 17:46:24 proba2000 dirt      overworld -29 63  178\n",
       "2 2020-02-07 17:46:34 xercer    workbench overworld  38 65  -70\n",
       "3 2020-02-07 17:46:41 8pipis    workbench overworld   8 65  -17\n",
       "4 2020-02-07 17:46:48 Leguas9h  sand      overworld 157 60 -206\n",
       "5 2020-02-07 17:47:09 ufgt      sapling   overworld -39 63  202\n",
       "6 2020-02-07 17:47:29 xercer    workbench overworld  94 64 -125"
      ]
     },
     "metadata": {},
     "output_type": "display_data"
    },
    {
     "data": {
      "text/plain": [
       "                  time                      user       \n",
       " 2020-02-08 10:24:06:   597   Check9light     :246342  \n",
       " 2020-02-08 10:24:07:   591   GermanEngineer12:234062  \n",
       " 2020-02-08 10:33:16:   565   artofcroissant  :123579  \n",
       " 2020-02-08 05:50:12:   562   lavablade02     : 92888  \n",
       " 2020-02-07 21:03:57:   539   CommaDotNight   : 26870  \n",
       " 2020-02-08 08:10:48:   533   Ovechkin_       : 17929  \n",
       " (Other)            :996613   (Other)         :258330  \n",
       "              block            dimension            x           \n",
       " stationary_water:456432   overworld:953392   Min.   :-62073.0  \n",
       " stationary_lava :253801   nether   : 20731   1st Qu.: -1317.0  \n",
       " lava            : 88494   end      : 25877   Median :     2.0  \n",
       " cobblestone     : 58813                      Mean   :   544.3  \n",
       " water           : 52369                      3rd Qu.:  1496.0  \n",
       " leaves          : 15567                      Max.   : 47797.0  \n",
       " (Other)         : 74524                                        \n",
       "       y                z           \n",
       " Min.   : -1.00   Min.   :-43414.0  \n",
       " 1st Qu.: 66.00   1st Qu.:  -269.0  \n",
       " Median : 75.00   Median :     1.0  \n",
       " Mean   : 92.55   Mean   :  -262.6  \n",
       " 3rd Qu.:105.00   3rd Qu.:  1366.0  \n",
       " Max.   :255.00   Max.   : 66707.0  \n",
       "                                    "
      ]
     },
     "metadata": {},
     "output_type": "display_data"
    },
    {
     "data": {
      "text/html": [
       "<table>\n",
       "<caption>A data.frame: 6 x 7</caption>\n",
       "<thead>\n",
       "\t<tr><th></th><th scope=col>time</th><th scope=col>user</th><th scope=col>action</th><th scope=col>dimension</th><th scope=col>x</th><th scope=col>y</th><th scope=col>z</th></tr>\n",
       "\t<tr><th></th><th scope=col>&lt;fct&gt;</th><th scope=col>&lt;fct&gt;</th><th scope=col>&lt;fct&gt;</th><th scope=col>&lt;fct&gt;</th><th scope=col>&lt;int&gt;</th><th scope=col>&lt;int&gt;</th><th scope=col>&lt;int&gt;</th></tr>\n",
       "</thead>\n",
       "<tbody>\n",
       "\t<tr><th scope=row>1</th><td>2020-02-07 00:53:21</td><td>LaiZBoi</td><td>in </td><td>overworld</td><td>-24</td><td>76</td><td>-43</td></tr>\n",
       "\t<tr><th scope=row>2</th><td>2020-02-07 00:53:27</td><td>LaiZBoi</td><td>out</td><td>overworld</td><td>-24</td><td>75</td><td>-43</td></tr>\n",
       "\t<tr><th scope=row>3</th><td>2020-02-07 01:56:55</td><td>LaiZBoi</td><td>in </td><td>overworld</td><td>-24</td><td>75</td><td>-43</td></tr>\n",
       "\t<tr><th scope=row>4</th><td>2020-02-07 01:57:08</td><td>LaiZBoi</td><td>out</td><td>overworld</td><td> 30</td><td>83</td><td> 23</td></tr>\n",
       "\t<tr><th scope=row>5</th><td>2020-02-07 01:58:24</td><td>SalC1  </td><td>in </td><td>overworld</td><td> 11</td><td>74</td><td>-29</td></tr>\n",
       "\t<tr><th scope=row>6</th><td>2020-02-07 01:58:37</td><td>SalC1  </td><td>out</td><td>overworld</td><td> 11</td><td>74</td><td>-29</td></tr>\n",
       "</tbody>\n",
       "</table>\n"
      ],
      "text/latex": [
       "A data.frame: 6 x 7\n",
       "\\begin{tabular}{r|lllllll}\n",
       "  & time & user & action & dimension & x & y & z\\\\\n",
       "  & <fct> & <fct> & <fct> & <fct> & <int> & <int> & <int>\\\\\n",
       "\\hline\n",
       "\t1 & 2020-02-07 00:53:21 & LaiZBoi & in  & overworld & -24 & 76 & -43\\\\\n",
       "\t2 & 2020-02-07 00:53:27 & LaiZBoi & out & overworld & -24 & 75 & -43\\\\\n",
       "\t3 & 2020-02-07 01:56:55 & LaiZBoi & in  & overworld & -24 & 75 & -43\\\\\n",
       "\t4 & 2020-02-07 01:57:08 & LaiZBoi & out & overworld &  30 & 83 &  23\\\\\n",
       "\t5 & 2020-02-07 01:58:24 & SalC1   & in  & overworld &  11 & 74 & -29\\\\\n",
       "\t6 & 2020-02-07 01:58:37 & SalC1   & out & overworld &  11 & 74 & -29\\\\\n",
       "\\end{tabular}\n"
      ],
      "text/markdown": [
       "\n",
       "A data.frame: 6 x 7\n",
       "\n",
       "| <!--/--> | time &lt;fct&gt; | user &lt;fct&gt; | action &lt;fct&gt; | dimension &lt;fct&gt; | x &lt;int&gt; | y &lt;int&gt; | z &lt;int&gt; |\n",
       "|---|---|---|---|---|---|---|---|\n",
       "| 1 | 2020-02-07 00:53:21 | LaiZBoi | in  | overworld | -24 | 76 | -43 |\n",
       "| 2 | 2020-02-07 00:53:27 | LaiZBoi | out | overworld | -24 | 75 | -43 |\n",
       "| 3 | 2020-02-07 01:56:55 | LaiZBoi | in  | overworld | -24 | 75 | -43 |\n",
       "| 4 | 2020-02-07 01:57:08 | LaiZBoi | out | overworld |  30 | 83 |  23 |\n",
       "| 5 | 2020-02-07 01:58:24 | SalC1   | in  | overworld |  11 | 74 | -29 |\n",
       "| 6 | 2020-02-07 01:58:37 | SalC1   | out | overworld |  11 | 74 | -29 |\n",
       "\n"
      ],
      "text/plain": [
       "  time                user    action dimension x   y  z  \n",
       "1 2020-02-07 00:53:21 LaiZBoi in     overworld -24 76 -43\n",
       "2 2020-02-07 00:53:27 LaiZBoi out    overworld -24 75 -43\n",
       "3 2020-02-07 01:56:55 LaiZBoi in     overworld -24 75 -43\n",
       "4 2020-02-07 01:57:08 LaiZBoi out    overworld  30 83  23\n",
       "5 2020-02-07 01:58:24 SalC1   in     overworld  11 74 -29\n",
       "6 2020-02-07 01:58:37 SalC1   out    overworld  11 74 -29"
      ]
     },
     "metadata": {},
     "output_type": "display_data"
    },
    {
     "data": {
      "text/plain": [
       "                  time                user        action      \n",
       " 2020-02-22 08:41:12:   150   SyJay18   :  7835   out:480051  \n",
       " 2020-02-12 19:42:37:   127   BeefCity  :  5147   in :489643  \n",
       " 2020-02-14 23:31:12:   127   Fetopia   :  4623               \n",
       " 2020-02-08 13:38:00:   125   moooomoooo:  4524               \n",
       " 2020-02-26 17:42:34:   125   BentsiW   :  4078               \n",
       " 2020-02-26 17:55:00:   125   k3b       :  2861               \n",
       " (Other)            :968915   (Other)   :940626               \n",
       "     dimension            x                   y                  z            \n",
       " overworld:772280   Min.   :-13001795   Min.   :-2669.00   Min.   :-15015097  \n",
       " nether   :190425   1st Qu.:     -753   1st Qu.:   61.00   1st Qu.:     -481  \n",
       " end      :  6989   Median :        4   Median :   66.00   Median :       17  \n",
       "                    Mean   :     8117   Mean   :   74.23   Mean   :    -5068  \n",
       "                    3rd Qu.:     2673   3rd Qu.:   79.00   3rd Qu.:     2320  \n",
       "                    Max.   : 30000000   Max.   :14610.00   Max.   :  9999965  \n",
       "                                                                              "
      ]
     },
     "metadata": {},
     "output_type": "display_data"
    },
    {
     "data": {
      "text/html": [
       "<table>\n",
       "<caption>A data.frame: 6 x 6</caption>\n",
       "<thead>\n",
       "\t<tr><th></th><th scope=col>time</th><th scope=col>user</th><th scope=col>dimension</th><th scope=col>x</th><th scope=col>y</th><th scope=col>z</th></tr>\n",
       "\t<tr><th></th><th scope=col>&lt;fct&gt;</th><th scope=col>&lt;fct&gt;</th><th scope=col>&lt;fct&gt;</th><th scope=col>&lt;int&gt;</th><th scope=col>&lt;int&gt;</th><th scope=col>&lt;int&gt;</th></tr>\n",
       "</thead>\n",
       "<tbody>\n",
       "\t<tr><th scope=row>1</th><td>2020-02-07 00:53:21</td><td>LaiZBoi</td><td>overworld</td><td>-24</td><td>76</td><td>-43</td></tr>\n",
       "\t<tr><th scope=row>3</th><td>2020-02-07 01:56:55</td><td>LaiZBoi</td><td>overworld</td><td>-24</td><td>75</td><td>-43</td></tr>\n",
       "\t<tr><th scope=row>5</th><td>2020-02-07 01:58:24</td><td>SalC1  </td><td>overworld</td><td> 11</td><td>74</td><td>-29</td></tr>\n",
       "\t<tr><th scope=row>7</th><td>2020-02-07 01:58:55</td><td>LaiZBoi</td><td>overworld</td><td> 30</td><td>83</td><td> 23</td></tr>\n",
       "\t<tr><th scope=row>9</th><td>2020-02-07 01:58:59</td><td>LaiZBoi</td><td>overworld</td><td> 30</td><td>81</td><td> 23</td></tr>\n",
       "\t<tr><th scope=row>11</th><td>2020-02-07 01:59:01</td><td>LaiZBoi</td><td>overworld</td><td> 30</td><td>81</td><td> 23</td></tr>\n",
       "</tbody>\n",
       "</table>\n"
      ],
      "text/latex": [
       "A data.frame: 6 x 6\n",
       "\\begin{tabular}{r|llllll}\n",
       "  & time & user & dimension & x & y & z\\\\\n",
       "  & <fct> & <fct> & <fct> & <int> & <int> & <int>\\\\\n",
       "\\hline\n",
       "\t1 & 2020-02-07 00:53:21 & LaiZBoi & overworld & -24 & 76 & -43\\\\\n",
       "\t3 & 2020-02-07 01:56:55 & LaiZBoi & overworld & -24 & 75 & -43\\\\\n",
       "\t5 & 2020-02-07 01:58:24 & SalC1   & overworld &  11 & 74 & -29\\\\\n",
       "\t7 & 2020-02-07 01:58:55 & LaiZBoi & overworld &  30 & 83 &  23\\\\\n",
       "\t9 & 2020-02-07 01:58:59 & LaiZBoi & overworld &  30 & 81 &  23\\\\\n",
       "\t11 & 2020-02-07 01:59:01 & LaiZBoi & overworld &  30 & 81 &  23\\\\\n",
       "\\end{tabular}\n"
      ],
      "text/markdown": [
       "\n",
       "A data.frame: 6 x 6\n",
       "\n",
       "| <!--/--> | time &lt;fct&gt; | user &lt;fct&gt; | dimension &lt;fct&gt; | x &lt;int&gt; | y &lt;int&gt; | z &lt;int&gt; |\n",
       "|---|---|---|---|---|---|---|\n",
       "| 1 | 2020-02-07 00:53:21 | LaiZBoi | overworld | -24 | 76 | -43 |\n",
       "| 3 | 2020-02-07 01:56:55 | LaiZBoi | overworld | -24 | 75 | -43 |\n",
       "| 5 | 2020-02-07 01:58:24 | SalC1   | overworld |  11 | 74 | -29 |\n",
       "| 7 | 2020-02-07 01:58:55 | LaiZBoi | overworld |  30 | 83 |  23 |\n",
       "| 9 | 2020-02-07 01:58:59 | LaiZBoi | overworld |  30 | 81 |  23 |\n",
       "| 11 | 2020-02-07 01:59:01 | LaiZBoi | overworld |  30 | 81 |  23 |\n",
       "\n"
      ],
      "text/plain": [
       "   time                user    dimension x   y  z  \n",
       "1  2020-02-07 00:53:21 LaiZBoi overworld -24 76 -43\n",
       "3  2020-02-07 01:56:55 LaiZBoi overworld -24 75 -43\n",
       "5  2020-02-07 01:58:24 SalC1   overworld  11 74 -29\n",
       "7  2020-02-07 01:58:55 LaiZBoi overworld  30 83  23\n",
       "9  2020-02-07 01:58:59 LaiZBoi overworld  30 81  23\n",
       "11 2020-02-07 01:59:01 LaiZBoi overworld  30 81  23"
      ]
     },
     "metadata": {},
     "output_type": "display_data"
    },
    {
     "data": {
      "text/plain": [
       "                  time                user            dimension     \n",
       " 2020-02-09 12:46:57:    26   SyJay18   :  3911   overworld:391477  \n",
       " 2020-03-13 09:41:36:    25   BeefCity  :  2573   nether   : 94625  \n",
       " 2020-02-09 12:48:00:    24   Fetopia   :  2319   end      :  3541  \n",
       " 2020-03-03 21:36:02:    24   moooomoooo:  2306                     \n",
       " 2020-03-04 23:54:39:    23   BentsiW   :  2042                     \n",
       " 2020-03-12 18:43:49:    23   k3b       :  1438                     \n",
       " (Other)            :489498   (Other)   :475054                     \n",
       "       x                   y                  z            \n",
       " Min.   :-13001795   Min.   :-2669.00   Min.   :-15015097  \n",
       " 1st Qu.:     -679   1st Qu.:   61.00   1st Qu.:     -435  \n",
       " Median :        5   Median :   66.00   Median :       16  \n",
       " Mean   :     8061   Mean   :   74.23   Mean   :    -5076  \n",
       " 3rd Qu.:     2500   3rd Qu.:   79.00   3rd Qu.:     2184  \n",
       " Max.   : 29999999   Max.   :  299.00   Max.   :  9999965  \n",
       "                                                           "
      ]
     },
     "metadata": {},
     "output_type": "display_data"
    },
    {
     "data": {
      "text/html": [
       "<table>\n",
       "<caption>A data.frame: 6 x 6</caption>\n",
       "<thead>\n",
       "\t<tr><th></th><th scope=col>time</th><th scope=col>user</th><th scope=col>dimension</th><th scope=col>x</th><th scope=col>y</th><th scope=col>z</th></tr>\n",
       "\t<tr><th></th><th scope=col>&lt;fct&gt;</th><th scope=col>&lt;fct&gt;</th><th scope=col>&lt;fct&gt;</th><th scope=col>&lt;int&gt;</th><th scope=col>&lt;int&gt;</th><th scope=col>&lt;int&gt;</th></tr>\n",
       "</thead>\n",
       "<tbody>\n",
       "\t<tr><th scope=row>2</th><td>2020-02-07 00:53:27</td><td>LaiZBoi</td><td>overworld</td><td>-24</td><td>75</td><td>-43</td></tr>\n",
       "\t<tr><th scope=row>4</th><td>2020-02-07 01:57:08</td><td>LaiZBoi</td><td>overworld</td><td> 30</td><td>83</td><td> 23</td></tr>\n",
       "\t<tr><th scope=row>6</th><td>2020-02-07 01:58:37</td><td>SalC1  </td><td>overworld</td><td> 11</td><td>74</td><td>-29</td></tr>\n",
       "\t<tr><th scope=row>8</th><td>2020-02-07 01:58:58</td><td>LaiZBoi</td><td>overworld</td><td> 30</td><td>81</td><td> 23</td></tr>\n",
       "\t<tr><th scope=row>10</th><td>2020-02-07 01:59:00</td><td>LaiZBoi</td><td>overworld</td><td> 30</td><td>81</td><td> 23</td></tr>\n",
       "\t<tr><th scope=row>12</th><td>2020-02-07 01:59:03</td><td>LaiZBoi</td><td>overworld</td><td> 30</td><td>81</td><td> 23</td></tr>\n",
       "</tbody>\n",
       "</table>\n"
      ],
      "text/latex": [
       "A data.frame: 6 x 6\n",
       "\\begin{tabular}{r|llllll}\n",
       "  & time & user & dimension & x & y & z\\\\\n",
       "  & <fct> & <fct> & <fct> & <int> & <int> & <int>\\\\\n",
       "\\hline\n",
       "\t2 & 2020-02-07 00:53:27 & LaiZBoi & overworld & -24 & 75 & -43\\\\\n",
       "\t4 & 2020-02-07 01:57:08 & LaiZBoi & overworld &  30 & 83 &  23\\\\\n",
       "\t6 & 2020-02-07 01:58:37 & SalC1   & overworld &  11 & 74 & -29\\\\\n",
       "\t8 & 2020-02-07 01:58:58 & LaiZBoi & overworld &  30 & 81 &  23\\\\\n",
       "\t10 & 2020-02-07 01:59:00 & LaiZBoi & overworld &  30 & 81 &  23\\\\\n",
       "\t12 & 2020-02-07 01:59:03 & LaiZBoi & overworld &  30 & 81 &  23\\\\\n",
       "\\end{tabular}\n"
      ],
      "text/markdown": [
       "\n",
       "A data.frame: 6 x 6\n",
       "\n",
       "| <!--/--> | time &lt;fct&gt; | user &lt;fct&gt; | dimension &lt;fct&gt; | x &lt;int&gt; | y &lt;int&gt; | z &lt;int&gt; |\n",
       "|---|---|---|---|---|---|---|\n",
       "| 2 | 2020-02-07 00:53:27 | LaiZBoi | overworld | -24 | 75 | -43 |\n",
       "| 4 | 2020-02-07 01:57:08 | LaiZBoi | overworld |  30 | 83 |  23 |\n",
       "| 6 | 2020-02-07 01:58:37 | SalC1   | overworld |  11 | 74 | -29 |\n",
       "| 8 | 2020-02-07 01:58:58 | LaiZBoi | overworld |  30 | 81 |  23 |\n",
       "| 10 | 2020-02-07 01:59:00 | LaiZBoi | overworld |  30 | 81 |  23 |\n",
       "| 12 | 2020-02-07 01:59:03 | LaiZBoi | overworld |  30 | 81 |  23 |\n",
       "\n"
      ],
      "text/plain": [
       "   time                user    dimension x   y  z  \n",
       "2  2020-02-07 00:53:27 LaiZBoi overworld -24 75 -43\n",
       "4  2020-02-07 01:57:08 LaiZBoi overworld  30 83  23\n",
       "6  2020-02-07 01:58:37 SalC1   overworld  11 74 -29\n",
       "8  2020-02-07 01:58:58 LaiZBoi overworld  30 81  23\n",
       "10 2020-02-07 01:59:00 LaiZBoi overworld  30 81  23\n",
       "12 2020-02-07 01:59:03 LaiZBoi overworld  30 81  23"
      ]
     },
     "metadata": {},
     "output_type": "display_data"
    },
    {
     "data": {
      "text/plain": [
       "                  time                user            dimension     \n",
       " 2020-02-22 08:41:12:   150   SyJay18   :  3924   overworld:380803  \n",
       " 2020-02-12 19:42:37:   127   BeefCity  :  2574   nether   : 95800  \n",
       " 2020-02-14 23:31:12:   127   Fetopia   :  2304   end      :  3448  \n",
       " 2020-02-08 13:38:00:   125   moooomoooo:  2218                     \n",
       " 2020-02-26 17:42:34:   125   BentsiW   :  2036                     \n",
       " 2020-02-26 17:55:00:   125   k3b       :  1423                     \n",
       " (Other)            :479272   (Other)   :465572                     \n",
       "       x                   y                  z            \n",
       " Min.   :-13001795   Min.   :-2665.00   Min.   :-15015097  \n",
       " 1st Qu.:     -816   1st Qu.:   61.00   1st Qu.:     -527  \n",
       " Median :        4   Median :   66.00   Median :       18  \n",
       " Mean   :     8174   Mean   :   74.23   Mean   :    -5061  \n",
       " 3rd Qu.:     2870   3rd Qu.:   79.00   3rd Qu.:     2442  \n",
       " Max.   : 30000000   Max.   :14610.00   Max.   :  9999965  \n",
       "                                                           "
      ]
     },
     "metadata": {},
     "output_type": "display_data"
    },
    {
     "data": {
      "text/html": [
       "<table>\n",
       "<caption>A data.frame: 6 x 7</caption>\n",
       "<thead>\n",
       "\t<tr><th></th><th scope=col>time</th><th scope=col>user</th><th scope=col>text</th><th scope=col>dimension</th><th scope=col>x</th><th scope=col>y</th><th scope=col>z</th></tr>\n",
       "\t<tr><th></th><th scope=col>&lt;fct&gt;</th><th scope=col>&lt;fct&gt;</th><th scope=col>&lt;fct&gt;</th><th scope=col>&lt;fct&gt;</th><th scope=col>&lt;int&gt;</th><th scope=col>&lt;int&gt;</th><th scope=col>&lt;int&gt;</th></tr>\n",
       "</thead>\n",
       "<tbody>\n",
       "\t<tr><th scope=row>2</th><td>2020-02-07 18:06:12</td><td>SoldaatMinecraft</td><td>2/8/2020 SoldaatMinecraft  Were it al began... </td><td>overworld</td><td>-167</td><td>63</td><td> 536</td></tr>\n",
       "\t<tr><th scope=row>3</th><td>2020-02-07 18:09:26</td><td>MuzzyCerdo      </td><td>SALC1 IS GAY  -MuzzyCerdo                      </td><td>overworld</td><td> 167</td><td>72</td><td> -83</td></tr>\n",
       "\t<tr><th scope=row>4</th><td>2020-02-07 18:10:27</td><td>SoldaatMinecraft</td><td>2/8/20 SoldaatMinecraft Were it al began...    </td><td>overworld</td><td>-191</td><td>64</td><td> 590</td></tr>\n",
       "\t<tr><th scope=row>5</th><td>2020-02-07 18:11:07</td><td>MuzzyCerdo      </td><td>hey bitches dont get here 08/02/2020 muzzycerdo</td><td>overworld</td><td> 128</td><td>70</td><td>-135</td></tr>\n",
       "\t<tr><th scope=row>6</th><td>2020-02-07 18:12:35</td><td>artofcroissant  </td><td> hi -artofcroissant 08 02 2020                 </td><td>overworld</td><td>  36</td><td>64</td><td>1388</td></tr>\n",
       "\t<tr><th scope=row>7</th><td>2020-02-07 18:13:11</td><td>Kerizo          </td><td>Hey all                                        </td><td>overworld</td><td>-192</td><td>64</td><td> -44</td></tr>\n",
       "</tbody>\n",
       "</table>\n"
      ],
      "text/latex": [
       "A data.frame: 6 x 7\n",
       "\\begin{tabular}{r|lllllll}\n",
       "  & time & user & text & dimension & x & y & z\\\\\n",
       "  & <fct> & <fct> & <fct> & <fct> & <int> & <int> & <int>\\\\\n",
       "\\hline\n",
       "\t2 & 2020-02-07 18:06:12 & SoldaatMinecraft & 2/8/2020 SoldaatMinecraft  Were it al began...  & overworld & -167 & 63 &  536\\\\\n",
       "\t3 & 2020-02-07 18:09:26 & MuzzyCerdo       & SALC1 IS GAY  -MuzzyCerdo                       & overworld &  167 & 72 &  -83\\\\\n",
       "\t4 & 2020-02-07 18:10:27 & SoldaatMinecraft & 2/8/20 SoldaatMinecraft Were it al began...     & overworld & -191 & 64 &  590\\\\\n",
       "\t5 & 2020-02-07 18:11:07 & MuzzyCerdo       & hey bitches dont get here 08/02/2020 muzzycerdo & overworld &  128 & 70 & -135\\\\\n",
       "\t6 & 2020-02-07 18:12:35 & artofcroissant   &  hi -artofcroissant 08 02 2020                  & overworld &   36 & 64 & 1388\\\\\n",
       "\t7 & 2020-02-07 18:13:11 & Kerizo           & Hey all                                         & overworld & -192 & 64 &  -44\\\\\n",
       "\\end{tabular}\n"
      ],
      "text/markdown": [
       "\n",
       "A data.frame: 6 x 7\n",
       "\n",
       "| <!--/--> | time &lt;fct&gt; | user &lt;fct&gt; | text &lt;fct&gt; | dimension &lt;fct&gt; | x &lt;int&gt; | y &lt;int&gt; | z &lt;int&gt; |\n",
       "|---|---|---|---|---|---|---|---|\n",
       "| 2 | 2020-02-07 18:06:12 | SoldaatMinecraft | 2/8/2020 SoldaatMinecraft  Were it al began...  | overworld | -167 | 63 |  536 |\n",
       "| 3 | 2020-02-07 18:09:26 | MuzzyCerdo       | SALC1 IS GAY  -MuzzyCerdo                       | overworld |  167 | 72 |  -83 |\n",
       "| 4 | 2020-02-07 18:10:27 | SoldaatMinecraft | 2/8/20 SoldaatMinecraft Were it al began...     | overworld | -191 | 64 |  590 |\n",
       "| 5 | 2020-02-07 18:11:07 | MuzzyCerdo       | hey bitches dont get here 08/02/2020 muzzycerdo | overworld |  128 | 70 | -135 |\n",
       "| 6 | 2020-02-07 18:12:35 | artofcroissant   |  hi -artofcroissant 08 02 2020                  | overworld |   36 | 64 | 1388 |\n",
       "| 7 | 2020-02-07 18:13:11 | Kerizo           | Hey all                                         | overworld | -192 | 64 |  -44 |\n",
       "\n"
      ],
      "text/plain": [
       "  time                user            \n",
       "2 2020-02-07 18:06:12 SoldaatMinecraft\n",
       "3 2020-02-07 18:09:26 MuzzyCerdo      \n",
       "4 2020-02-07 18:10:27 SoldaatMinecraft\n",
       "5 2020-02-07 18:11:07 MuzzyCerdo      \n",
       "6 2020-02-07 18:12:35 artofcroissant  \n",
       "7 2020-02-07 18:13:11 Kerizo          \n",
       "  text                                            dimension x    y  z   \n",
       "2 2/8/2020 SoldaatMinecraft  Were it al began...  overworld -167 63  536\n",
       "3 SALC1 IS GAY  -MuzzyCerdo                       overworld  167 72  -83\n",
       "4 2/8/20 SoldaatMinecraft Were it al began...     overworld -191 64  590\n",
       "5 hey bitches dont get here 08/02/2020 muzzycerdo overworld  128 70 -135\n",
       "6  hi -artofcroissant 08 02 2020                  overworld   36 64 1388\n",
       "7 Hey all                                         overworld -192 64  -44"
      ]
     },
     "metadata": {},
     "output_type": "display_data"
    },
    {
     "data": {
      "text/plain": [
       "                  time                   user      \n",
       " 2020-03-25 17:31:35:    12   CactusDuper  : 1088  \n",
       " 2020-04-04 18:03:35:    12   ShatteredHej :  833  \n",
       " 2020-03-23 16:56:39:    10   SmashyMC     :  750  \n",
       " 2020-03-24 13:33:30:    10   Temantor     :  704  \n",
       " 2020-03-24 13:33:32:    10   ClareBear0925:  544  \n",
       " 2020-03-24 13:33:42:    10   Fobba        :  530  \n",
       " (Other)            :101983   (Other)      :97598  \n",
       "                                                               text      \n",
       " sal is cute                                                     : 1038  \n",
       " e                                                               :  446  \n",
       " tip:if there isnt a snow to spam on just move him slightly till :  322  \n",
       " w                                                               :  307  \n",
       " 123456478957398 893475893758937 734563875637856 874356783563875 :  280  \n",
       "  Valley of signs                                                :  265  \n",
       " (Other)                                                         :99389  \n",
       "     dimension           x                   y                z            \n",
       " overworld:85210   Min.   :-13001781   Min.   :  1.00   Min.   :-15015226  \n",
       " nether   :16500   1st Qu.:    -2151   1st Qu.: 63.00   1st Qu.:    -1427  \n",
       " end      :  337   Median :        0   Median : 67.00   Median :      116  \n",
       "                   Mean   :    -2667   Mean   : 73.76   Mean   :    81284  \n",
       "                   3rd Qu.:     4196   3rd Qu.: 77.00   3rd Qu.:     5190  \n",
       "                   Max.   : 29999983   Max.   :255.00   Max.   : 29999983  \n",
       "                                                                           "
      ]
     },
     "metadata": {},
     "output_type": "display_data"
    }
   ],
   "source": [
    "\n",
    "#break_data is a data frame with information about the first 1,000,000 blocks broken by players on the server\n",
    "#time: time and date of the break, user: username of the player who broke it, block: type of block broken\n",
    "#dimension: which dimension was the block in (categorical)\n",
    "#x: whole x coordinate of the block, y: whole y (vertical) coordinate of the block, z: whole z coordinate of the block\n",
    "head(break_data)\n",
    "summary(break_data)\n",
    "\n",
    "#place_data is a data frame with information about the first 1,000,000 blocks placed by players on the server\n",
    "#time: time and date of the place, user: username of the player who placed it, block: type of block placed\n",
    "#dimension: which dimension was the block in (categorical)\n",
    "#x: whole x coordinate of the block, y: whole y (vertical) coordinate of the block, z: whole z coordinate of the block\n",
    "head(place_data)\n",
    "summary(place_data)\n",
    "\n",
    "#session_data is a data frame with information about player sessions. It captures log-on/log-off events.\n",
    "#time: time and date of the event, user: username of the player, action: did they log on or off (categorical)\n",
    "#x,y,z: whole coordinates where they logged, dimension: dimension where they logged (categorical)\n",
    "head(session_data)\n",
    "summary(session_data)\n",
    "\n",
    "#log_in is a subset of session_data consisting of only log-ins and therefore has no action column\n",
    "head(log_in)\n",
    "summary(log_in)\n",
    "\n",
    "#log_out is a subset of session_data consisting only of log-outs and therefore has no action column\n",
    "head(log_out)\n",
    "summary(log_out)\n",
    "\n",
    "#sign_data is a data frame with information about signs placed by players\n",
    "#time: The time and date the sign was placed, user: username of the player who placed the sign, text: text on the sign (concatenated all 4 rows)\n",
    "#x, y, z: whole coordinates of the sign's position, dimension: dimension where the sign was placed (categorical)\n",
    "head(sign_data)\n",
    "summary(sign_data)"
   ]
  },
  {
   "cell_type": "code",
   "execution_count": null,
   "metadata": {},
   "outputs": [],
   "source": [
    "h"
   ]
  }
 ],
 "metadata": {
  "kernelspec": {
   "display_name": "R 3.6.2",
   "language": "R",
   "name": "ir"
  },
  "language_info": {
   "codemirror_mode": "r",
   "file_extension": ".r",
   "mimetype": "text/x-r-source",
   "name": "R",
   "pygments_lexer": "r",
   "version": "3.6.2"
  }
 },
 "nbformat": 4,
 "nbformat_minor": 4
}
